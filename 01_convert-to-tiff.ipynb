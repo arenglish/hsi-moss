{
 "cells": [
  {
   "cell_type": "code",
   "execution_count": null,
   "metadata": {},
   "outputs": [],
   "source": [
    "from hsi_moss.hsi_prepare import *\n",
    "from hsi_moss.spectral_tiffs import *\n",
    "from hsi_moss.spectral_envi import *\n",
    "import numpy as np\n",
    "from progress.bar import Bar\n",
    "\n",
    "base_dir = PurePath(r\"E:\\moss_data\\Austin moss 2023\\Moss\")\n",
    "metadata = np.loadtxt(base_dir.joinpath(r\"Codes\\paths+coordinates.csv\").as_posix(), delimiter=',', dtype=str)\n",
    "\n",
    "bar = Bar('Converting ENVI images to TIFF', max=metadata.shape[0])\n",
    "fails = []\n",
    "for line in metadata:\n",
    "    index = line[0]\n",
    "    path_relative = line[1]\n",
    "    filename = line[2]\n",
    "    fullpath = base_dir.joinpath(path_relative).joinpath(filename)\n",
    "    hdrfullpath = fullpath.with_suffix('.hdr')\n",
    "    \n",
    "    if (Path(fullpath).exists() and not Path(fullpath.with_suffix('.tif')).exists()):\n",
    "        try:\n",
    "            envi_to_stiff(hdrfullpath)\n",
    "        except:\n",
    "            fails.append(line)\n",
    "    bar.next()\n",
    "bar.finish()\n",
    "    \n",
    "[print(f'Failed to convert {line[1]}/{line[2]}') for line in fails]\n"
   ]
  }
 ],
 "metadata": {
  "kernelspec": {
   "display_name": ".venv",
   "language": "python",
   "name": "python3"
  },
  "language_info": {
   "name": "python",
   "version": "3.11.0"
  },
  "orig_nbformat": 4,
  "vscode": {
   "interpreter": {
    "hash": "83af6c3c839cfb3528b9939ccd7548572ea5432677a391fb809d6dfd3d93c425"
   }
  }
 },
 "nbformat": 4,
 "nbformat_minor": 2
}
